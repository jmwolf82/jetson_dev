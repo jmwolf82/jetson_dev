{
 "cells": [
  {
   "cell_type": "markdown",
   "id": "f1421684-34e0-486d-98cd-18468ec46c7f",
   "metadata": {},
   "source": [
    "## Jetson Xavier Torch Benchmarking Example:"
   ]
  },
  {
   "cell_type": "code",
   "execution_count": 1,
   "id": "5bb4b2ea-f740-4877-b5bb-01acbc4b06b1",
   "metadata": {},
   "outputs": [
    {
     "name": "stderr",
     "output_type": "stream",
     "text": [
      "/home/jwolf/torch/lib/python3.8/site-packages/torchvision/io/image.py:13: UserWarning: Failed to load image Python extension: \n",
      "  warn(f\"Failed to load image Python extension: {e}\")\n"
     ]
    }
   ],
   "source": [
    "import torch\n",
    "from torch import nn\n",
    "from torch.utils.data import DataLoader\n",
    "import torchvision\n",
    "from torchvision import datasets\n",
    "from torchvision.transforms import ToTensor"
   ]
  },
  {
   "cell_type": "markdown",
   "id": "76964857-38ce-4ef4-9bb6-3b3da7ff9cf2",
   "metadata": {},
   "source": [
    "### Download Training Data (FashionMNIST) using Torchvision"
   ]
  },
  {
   "cell_type": "code",
   "execution_count": 2,
   "id": "19d2f72d-d804-4db6-b01a-5200f09cdd56",
   "metadata": {},
   "outputs": [],
   "source": [
    "# Download training data from open datasets.\n",
    "training_data = datasets.FashionMNIST(\n",
    "    root=\"data\",\n",
    "    train=True,\n",
    "    download=True,\n",
    "    transform=ToTensor(),\n",
    ")\n",
    "\n",
    "# Download test data from open datasets.\n",
    "test_data = datasets.FashionMNIST(\n",
    "    root=\"data\",\n",
    "    train=False,\n",
    "    download=True,\n",
    "    transform=ToTensor(),\n",
    ")"
   ]
  },
  {
   "cell_type": "markdown",
   "id": "b65f9bfb-ac4e-409b-b542-2f1ae197d0d1",
   "metadata": {},
   "source": [
    "### Dataloader for NN"
   ]
  },
  {
   "cell_type": "code",
   "execution_count": 3,
   "id": "1a7a784e-51b9-4f5c-8a5d-7663a8c6fae2",
   "metadata": {},
   "outputs": [
    {
     "name": "stdout",
     "output_type": "stream",
     "text": [
      "Shape of X [N, C, H, W]: torch.Size([64, 1, 28, 28])\n",
      "Shape of y: torch.Size([64]) torch.int64\n"
     ]
    }
   ],
   "source": [
    "batch_size = 64\n",
    "\n",
    "# Create data loaders.\n",
    "train_dataloader = DataLoader(training_data, batch_size=batch_size)\n",
    "test_dataloader = DataLoader(test_data, batch_size=batch_size)\n",
    "\n",
    "for X, y in test_dataloader:\n",
    "    print(f\"Shape of X [N, C, H, W]: {X.shape}\")\n",
    "    print(f\"Shape of y: {y.shape} {y.dtype}\")\n",
    "    break"
   ]
  },
  {
   "cell_type": "markdown",
   "id": "8e18345f-3b37-4a86-a92a-1f7582a194e1",
   "metadata": {},
   "source": [
    "### Create Model Class for Linear NN"
   ]
  },
  {
   "cell_type": "code",
   "execution_count": 4,
   "id": "1a1995aa-c97c-4ace-83c6-b894739800e9",
   "metadata": {},
   "outputs": [
    {
     "name": "stdout",
     "output_type": "stream",
     "text": [
      "Using cuda device\n",
      "NeuralNetwork(\n",
      "  (flatten): Flatten(start_dim=1, end_dim=-1)\n",
      "  (linear_relu_stack): Sequential(\n",
      "    (0): Linear(in_features=784, out_features=512, bias=True)\n",
      "    (1): ReLU()\n",
      "    (2): Linear(in_features=512, out_features=512, bias=True)\n",
      "    (3): ReLU()\n",
      "    (4): Linear(in_features=512, out_features=10, bias=True)\n",
      "  )\n",
      ")\n"
     ]
    }
   ],
   "source": [
    "# Get cpu or gpu device for training.\n",
    "device = \"cuda\" if torch.cuda.is_available() else \"cpu\"\n",
    "print(f\"Using {device} device\")\n",
    "\n",
    "# Define model\n",
    "class NeuralNetwork(nn.Module):\n",
    "    def __init__(self):\n",
    "        super(NeuralNetwork, self).__init__()\n",
    "        self.flatten = nn.Flatten()\n",
    "        self.linear_relu_stack = nn.Sequential(\n",
    "            nn.Linear(28*28, 512),\n",
    "            nn.ReLU(),\n",
    "            nn.Linear(512, 512),\n",
    "            nn.ReLU(),\n",
    "            nn.Linear(512, 10)\n",
    "        )\n",
    "\n",
    "    def forward(self, x):\n",
    "        x = self.flatten(x)\n",
    "        logits = self.linear_relu_stack(x)\n",
    "        return logits\n",
    "\n",
    "model = NeuralNetwork().to(device)\n",
    "print(model)"
   ]
  },
  {
   "cell_type": "markdown",
   "id": "69ef0f06-a1f0-46f7-986c-61966d398487",
   "metadata": {},
   "source": [
    "### Optimizer"
   ]
  },
  {
   "cell_type": "code",
   "execution_count": 5,
   "id": "68079fff-0179-4b03-874e-e770736b91c3",
   "metadata": {},
   "outputs": [],
   "source": [
    "loss_fn = nn.CrossEntropyLoss()\n",
    "optimizer = torch.optim.SGD(model.parameters(), lr=1e-3)"
   ]
  },
  {
   "cell_type": "markdown",
   "id": "564206b6-0ba3-440a-a9c8-9326ada6c130",
   "metadata": {},
   "source": [
    "### Define Training "
   ]
  },
  {
   "cell_type": "code",
   "execution_count": 6,
   "id": "e859c7d1-4ebe-4803-be84-3edb3444c073",
   "metadata": {},
   "outputs": [],
   "source": [
    "def train(dataloader, model, loss_fn, optimizer):\n",
    "    size = len(dataloader.dataset)\n",
    "    model.train()\n",
    "    for batch, (X, y) in enumerate(dataloader):\n",
    "        X, y = X.to(device), y.to(device)\n",
    "\n",
    "        # Compute prediction error\n",
    "        pred = model(X)\n",
    "        loss = loss_fn(pred, y)\n",
    "\n",
    "        # Backpropagation\n",
    "        optimizer.zero_grad()\n",
    "        loss.backward()\n",
    "        optimizer.step()\n",
    "\n",
    "        if batch % 100 == 0:\n",
    "            loss, current = loss.item(), batch * len(X)\n",
    "            print(f\"loss: {loss:>7f}  [{current:>5d}/{size:>5d}]\")"
   ]
  },
  {
   "cell_type": "markdown",
   "id": "c8fe33dc-34f8-491c-9ead-10dd7ceeb8ae",
   "metadata": {},
   "source": [
    "### Define Test "
   ]
  },
  {
   "cell_type": "code",
   "execution_count": 7,
   "id": "b0487a0a-c646-4ab6-9a58-6e9d89477b80",
   "metadata": {},
   "outputs": [],
   "source": [
    "def test(dataloader, model, loss_fn):\n",
    "    size = len(dataloader.dataset)\n",
    "    num_batches = len(dataloader)\n",
    "    model.eval()\n",
    "    test_loss, correct = 0, 0\n",
    "    with torch.no_grad():\n",
    "        for X, y in dataloader:\n",
    "            X, y = X.to(device), y.to(device)\n",
    "            pred = model(X)\n",
    "            test_loss += loss_fn(pred, y).item()\n",
    "            correct += (pred.argmax(1) == y).type(torch.float).sum().item()\n",
    "    test_loss /= num_batches\n",
    "    correct /= size\n",
    "    print(f\"Test Error: \\n Accuracy: {(100*correct):>0.1f}%, Avg loss: {test_loss:>8f} \\n\")"
   ]
  },
  {
   "cell_type": "markdown",
   "id": "46bd61d9-a086-4b90-be56-f5f3f5ee41b2",
   "metadata": {},
   "source": [
    "### Train Model "
   ]
  },
  {
   "cell_type": "code",
   "execution_count": 8,
   "id": "950aa7b8-1959-4f5f-b02b-e1ba1c89358a",
   "metadata": {},
   "outputs": [
    {
     "name": "stdout",
     "output_type": "stream",
     "text": [
      "Epoch 1\n",
      "-------------------------------\n",
      "loss: 2.307443  [    0/60000]\n",
      "loss: 2.288800  [ 6400/60000]\n",
      "loss: 2.269377  [12800/60000]\n",
      "loss: 2.271212  [19200/60000]\n",
      "loss: 2.254652  [25600/60000]\n",
      "loss: 2.227743  [32000/60000]\n",
      "loss: 2.231676  [38400/60000]\n",
      "loss: 2.196461  [44800/60000]\n",
      "loss: 2.200478  [51200/60000]\n",
      "loss: 2.165106  [57600/60000]\n",
      "Test Error: \n",
      " Accuracy: 46.3%, Avg loss: 2.157094 \n",
      "\n",
      "Epoch 2\n",
      "-------------------------------\n",
      "loss: 2.172711  [    0/60000]\n",
      "loss: 2.156820  [ 6400/60000]\n",
      "loss: 2.095250  [12800/60000]\n",
      "loss: 2.114558  [19200/60000]\n",
      "loss: 2.073184  [25600/60000]\n",
      "loss: 2.008904  [32000/60000]\n",
      "loss: 2.034512  [38400/60000]\n",
      "loss: 1.949236  [44800/60000]\n",
      "loss: 1.961043  [51200/60000]\n",
      "loss: 1.890944  [57600/60000]\n",
      "Test Error: \n",
      " Accuracy: 56.6%, Avg loss: 1.882480 \n",
      "\n",
      "Epoch 3\n",
      "-------------------------------\n",
      "loss: 1.922722  [    0/60000]\n",
      "loss: 1.888098  [ 6400/60000]\n",
      "loss: 1.760970  [12800/60000]\n",
      "loss: 1.805236  [19200/60000]\n",
      "loss: 1.716044  [25600/60000]\n",
      "loss: 1.653328  [32000/60000]\n",
      "loss: 1.681434  [38400/60000]\n",
      "loss: 1.567954  [44800/60000]\n",
      "loss: 1.605339  [51200/60000]\n",
      "loss: 1.508909  [57600/60000]\n",
      "Test Error: \n",
      " Accuracy: 59.6%, Avg loss: 1.518576 \n",
      "\n",
      "Epoch 4\n",
      "-------------------------------\n",
      "loss: 1.590088  [    0/60000]\n",
      "loss: 1.554025  [ 6400/60000]\n",
      "loss: 1.395061  [12800/60000]\n",
      "loss: 1.471799  [19200/60000]\n",
      "loss: 1.376319  [25600/60000]\n",
      "loss: 1.352471  [32000/60000]\n",
      "loss: 1.370277  [38400/60000]\n",
      "loss: 1.281437  [44800/60000]\n",
      "loss: 1.326614  [51200/60000]\n",
      "loss: 1.236692  [57600/60000]\n",
      "Test Error: \n",
      " Accuracy: 62.7%, Avg loss: 1.257807 \n",
      "\n",
      "Epoch 5\n",
      "-------------------------------\n",
      "loss: 1.336943  [    0/60000]\n",
      "loss: 1.318585  [ 6400/60000]\n",
      "loss: 1.144241  [12800/60000]\n",
      "loss: 1.252992  [19200/60000]\n",
      "loss: 1.149376  [25600/60000]\n",
      "loss: 1.156383  [32000/60000]\n",
      "loss: 1.175694  [38400/60000]\n",
      "loss: 1.101355  [44800/60000]\n",
      "loss: 1.151380  [51200/60000]\n",
      "loss: 1.075186  [57600/60000]\n",
      "Test Error: \n",
      " Accuracy: 64.6%, Avg loss: 1.092208 \n",
      "\n",
      "Done!\n",
      "CPU times: user 1min 24s, sys: 19.8 s, total: 1min 44s\n",
      "Wall time: 1min 14s\n"
     ]
    }
   ],
   "source": [
    "%%time \n",
    "epochs = 5\n",
    "for t in range(epochs):\n",
    "    print(f\"Epoch {t+1}\\n-------------------------------\")\n",
    "    train(train_dataloader, model, loss_fn, optimizer)\n",
    "    test(test_dataloader, model, loss_fn)\n",
    "print(\"Done!\")"
   ]
  },
  {
   "cell_type": "markdown",
   "id": "5f525472-57c0-4207-863b-45da402c0719",
   "metadata": {},
   "source": [
    "### Saving Models"
   ]
  },
  {
   "cell_type": "code",
   "execution_count": 9,
   "id": "d3d9b39c-90d1-4913-9469-95282e3173a0",
   "metadata": {},
   "outputs": [
    {
     "name": "stdout",
     "output_type": "stream",
     "text": [
      "Saved PyTorch Model State to model_MAXV.pth\n"
     ]
    },
    {
     "name": "stderr",
     "output_type": "stream",
     "text": [
      "/home/jwolf/torch/lib/python3.8/site-packages/torch/nn/modules/module.py:1383: UserWarning: positional arguments and argument \"destination\" are deprecated. nn.Module.state_dict will not accept them in the future. Refer to https://pytorch.org/docs/master/generated/torch.nn.Module.html#torch.nn.Module.state_dict for details.\n",
      "  warnings.warn(\n"
     ]
    }
   ],
   "source": [
    "torch.save(model.state_dict(), \"model_MAXV.pth\")\n",
    "print(\"Saved PyTorch Model State to model_MAXV.pth\")"
   ]
  },
  {
   "cell_type": "markdown",
   "id": "bcbc5f21-e73a-4479-b325-d18f166e294e",
   "metadata": {},
   "source": [
    "### Loading Models"
   ]
  },
  {
   "cell_type": "code",
   "execution_count": 10,
   "id": "4184e792-0a95-4674-ab42-5ad0844b84b4",
   "metadata": {},
   "outputs": [
    {
     "data": {
      "text/plain": [
       "<All keys matched successfully>"
      ]
     },
     "execution_count": 10,
     "metadata": {},
     "output_type": "execute_result"
    }
   ],
   "source": [
    "model = NeuralNetwork()\n",
    "model.load_state_dict(torch.load(\"model_MAXV.pth\"))"
   ]
  },
  {
   "cell_type": "markdown",
   "id": "b9d5df01-eaaa-435b-91a8-52c674fc8c83",
   "metadata": {},
   "source": [
    "### Predicting Classes"
   ]
  },
  {
   "cell_type": "code",
   "execution_count": 11,
   "id": "8bfba92b-e83d-4fb6-8403-cb410c9dba12",
   "metadata": {},
   "outputs": [
    {
     "name": "stdout",
     "output_type": "stream",
     "text": [
      "Predicted: \"Ankle boot\", Actual: \"Ankle boot\"\n",
      "-----------------------------  ------------  ------------  ------------  ------------  ------------  ------------  ------------  ------------  ------------  ------------  \n",
      "                         Name    Self CPU %      Self CPU   CPU total %     CPU total  CPU time avg     Self CUDA   Self CUDA %    CUDA total  CUDA time avg    # of Calls  \n",
      "-----------------------------  ------------  ------------  ------------  ------------  ------------  ------------  ------------  ------------  ------------  ------------  \n",
      "                aten::flatten         1.12%     129.000us         1.33%     153.000us     153.000us      63.000us         0.55%      84.000us      84.000us             1  \n",
      "         aten::_reshape_alias         0.21%      24.000us         0.21%      24.000us      24.000us      21.000us         0.18%      21.000us      21.000us             1  \n",
      "                 aten::linear         1.07%     123.000us        84.53%       9.714ms       9.714ms      73.000us         0.64%       9.708ms       9.708ms             1  \n",
      "                      aten::t         0.47%      54.000us         0.93%     107.000us     107.000us      62.000us         0.54%     105.000us     105.000us             1  \n",
      "              aten::transpose         0.32%      37.000us         0.46%      53.000us      53.000us      29.000us         0.25%      43.000us      43.000us             1  \n",
      "             aten::as_strided         0.14%      16.000us         0.14%      16.000us      16.000us      14.000us         0.12%      14.000us      14.000us             1  \n",
      "                  aten::addmm        81.59%       9.376ms        82.53%       9.484ms       9.484ms       9.429ms        82.61%       9.530ms       9.530ms             1  \n",
      "                 aten::expand         0.26%      30.000us         0.34%      39.000us      39.000us      26.000us         0.23%      34.000us      34.000us             1  \n",
      "             aten::as_strided         0.08%       9.000us         0.08%       9.000us       9.000us       8.000us         0.07%       8.000us       8.000us             1  \n",
      "                  aten::copy_         0.18%      21.000us         0.18%      21.000us      21.000us      19.000us         0.17%      19.000us      19.000us             1  \n",
      "           aten::resolve_conj         0.35%      40.000us         0.35%      40.000us      40.000us      41.000us         0.36%      41.000us      41.000us             1  \n",
      "           aten::resolve_conj         0.07%       8.000us         0.07%       8.000us       8.000us       7.000us         0.06%       7.000us       7.000us             1  \n",
      "                   aten::relu         0.60%      69.000us         2.11%     243.000us     243.000us      64.000us         0.56%     237.000us     237.000us             1  \n",
      "              aten::clamp_min         0.41%      47.000us         1.51%     174.000us     174.000us      69.000us         0.60%     173.000us     173.000us             1  \n",
      "                  aten::empty         0.18%      21.000us         0.18%      21.000us      21.000us      20.000us         0.18%      20.000us      20.000us             1  \n",
      "              aten::clamp_min         0.92%     106.000us         0.92%     106.000us     106.000us      84.000us         0.74%      84.000us      84.000us             1  \n",
      "                 aten::linear         0.59%      68.000us         6.66%     765.000us     765.000us      67.000us         0.59%     761.000us     761.000us             1  \n",
      "                      aten::t         0.41%      47.000us         0.84%      96.000us      96.000us      49.000us         0.43%      96.000us      96.000us             1  \n",
      "              aten::transpose         0.25%      29.000us         0.43%      49.000us      49.000us      29.000us         0.25%      47.000us      47.000us             1  \n",
      "             aten::as_strided         0.17%      20.000us         0.17%      20.000us      20.000us      18.000us         0.16%      18.000us      18.000us             1  \n",
      "                  aten::addmm         4.61%     530.000us         5.23%     601.000us     601.000us     530.000us         4.64%     598.000us     598.000us             1  \n",
      "                 aten::expand         0.21%      24.000us         0.28%      32.000us      32.000us      21.000us         0.18%      30.000us      30.000us             1  \n",
      "             aten::as_strided         0.07%       8.000us         0.07%       8.000us       8.000us       9.000us         0.08%       9.000us       9.000us             1  \n",
      "                  aten::copy_         0.21%      24.000us         0.21%      24.000us      24.000us      25.000us         0.22%      25.000us      25.000us             1  \n",
      "           aten::resolve_conj         0.07%       8.000us         0.07%       8.000us       8.000us       7.000us         0.06%       7.000us       7.000us             1  \n",
      "           aten::resolve_conj         0.06%       7.000us         0.06%       7.000us       7.000us       6.000us         0.05%       6.000us       6.000us             1  \n",
      "                   aten::relu         0.37%      43.000us         1.63%     187.000us     187.000us      60.000us         0.53%     204.000us     204.000us             1  \n",
      "              aten::clamp_min         0.69%      79.000us         1.25%     144.000us     144.000us      80.000us         0.70%     144.000us     144.000us             1  \n",
      "                  aten::empty         0.30%      35.000us         0.30%      35.000us      35.000us      36.000us         0.32%      36.000us      36.000us             1  \n",
      "              aten::clamp_min         0.26%      30.000us         0.26%      30.000us      30.000us      28.000us         0.25%      28.000us      28.000us             1  \n",
      "                 aten::linear         0.33%      38.000us         2.31%     265.000us     265.000us      34.000us         0.30%     260.000us     260.000us             1  \n",
      "                      aten::t         0.31%      36.000us         0.59%      68.000us      68.000us      36.000us         0.32%      67.000us      67.000us             1  \n",
      "              aten::transpose         0.17%      20.000us         0.28%      32.000us      32.000us      19.000us         0.17%      31.000us      31.000us             1  \n",
      "             aten::as_strided         0.10%      12.000us         0.10%      12.000us      12.000us      12.000us         0.11%      12.000us      12.000us             1  \n",
      "                  aten::addmm         0.84%      97.000us         1.38%     159.000us     159.000us     100.000us         0.88%     159.000us     159.000us             1  \n",
      "                 aten::expand         0.17%      20.000us         0.25%      29.000us      29.000us      19.000us         0.17%      27.000us      27.000us             1  \n",
      "             aten::as_strided         0.08%       9.000us         0.08%       9.000us       9.000us       8.000us         0.07%       8.000us       8.000us             1  \n",
      "                  aten::copy_         0.17%      19.000us         0.17%      19.000us      19.000us      19.000us         0.17%      19.000us      19.000us             1  \n",
      "           aten::resolve_conj         0.07%       8.000us         0.07%       8.000us       8.000us       7.000us         0.06%       7.000us       7.000us             1  \n",
      "           aten::resolve_conj         0.05%       6.000us         0.05%       6.000us       6.000us       6.000us         0.05%       6.000us       6.000us             1  \n",
      "                 aten::select         0.28%      32.000us         0.37%      42.000us      42.000us      31.000us         0.27%      40.000us      40.000us             1  \n",
      "             aten::as_strided         0.09%      10.000us         0.09%      10.000us      10.000us       9.000us         0.08%       9.000us       9.000us             1  \n",
      "                 aten::argmax         0.70%      80.000us         0.77%      89.000us      89.000us      82.000us         0.72%      90.000us      90.000us             1  \n",
      "             aten::as_strided         0.08%       9.000us         0.08%       9.000us       9.000us       8.000us         0.07%       8.000us       8.000us             1  \n",
      "                   aten::item         0.21%      24.000us         0.30%      34.000us      34.000us      20.000us         0.18%      30.000us      30.000us             1  \n",
      "    aten::_local_scalar_dense         0.09%      10.000us         0.09%      10.000us      10.000us      10.000us         0.09%      10.000us      10.000us             1  \n",
      "-----------------------------  ------------  ------------  ------------  ------------  ------------  ------------  ------------  ------------  ------------  ------------  \n",
      "Self CPU time total: 11.492ms\n",
      "Self CUDA time total: 11.414ms\n",
      "\n",
      "CPU times: user 119 ms, sys: 110 ms, total: 229 ms\n",
      "Wall time: 36.8 ms\n"
     ]
    }
   ],
   "source": [
    "%%time\n",
    "classes = [\n",
    "    \"T-shirt/top\",\n",
    "    \"Trouser\",\n",
    "    \"Pullover\",\n",
    "    \"Dress\",\n",
    "    \"Coat\",\n",
    "    \"Sandal\",\n",
    "    \"Shirt\",\n",
    "    \"Sneaker\",\n",
    "    \"Bag\",\n",
    "    \"Ankle boot\",\n",
    "]\n",
    "\n",
    "model.eval()\n",
    "x, y = test_data[0][0], test_data[0][1]\n",
    "#with torch.no_grad():\n",
    "with torch.autograd.profiler.profile(use_cuda=True) as prof:\n",
    "    pred = model(x)\n",
    "    predicted, actual = classes[pred[0].argmax(0)], classes[y]\n",
    "    print(f'Predicted: \"{predicted}\", Actual: \"{actual}\"')\n",
    "print(prof)"
   ]
  },
  {
   "cell_type": "code",
   "execution_count": null,
   "id": "02ce499b-3aa6-447b-abd9-087034d2a931",
   "metadata": {},
   "outputs": [],
   "source": []
  }
 ],
 "metadata": {
  "kernelspec": {
   "display_name": "Python 3 (ipykernel)",
   "language": "python",
   "name": "python3"
  },
  "language_info": {
   "codemirror_mode": {
    "name": "ipython",
    "version": 3
   },
   "file_extension": ".py",
   "mimetype": "text/x-python",
   "name": "python",
   "nbconvert_exporter": "python",
   "pygments_lexer": "ipython3",
   "version": "3.8.10"
  }
 },
 "nbformat": 4,
 "nbformat_minor": 5
}
