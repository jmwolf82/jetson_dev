{
 "cells": [
  {
   "cell_type": "markdown",
   "id": "f1421684-34e0-486d-98cd-18468ec46c7f",
   "metadata": {},
   "source": [
    "## Jetson Xavier Torch Benchmarking Example:"
   ]
  },
  {
   "cell_type": "code",
   "execution_count": 1,
   "id": "5bb4b2ea-f740-4877-b5bb-01acbc4b06b1",
   "metadata": {},
   "outputs": [
    {
     "name": "stderr",
     "output_type": "stream",
     "text": [
      "/home/jwolf/torch/lib/python3.8/site-packages/torchvision/io/image.py:13: UserWarning: Failed to load image Python extension: \n",
      "  warn(f\"Failed to load image Python extension: {e}\")\n"
     ]
    }
   ],
   "source": [
    "import torch\n",
    "from torch import nn\n",
    "from torch.utils.data import DataLoader\n",
    "import torchvision\n",
    "from torchvision import datasets\n",
    "from torchvision.transforms import ToTensor"
   ]
  },
  {
   "cell_type": "markdown",
   "id": "76964857-38ce-4ef4-9bb6-3b3da7ff9cf2",
   "metadata": {},
   "source": [
    "### Download Training Data (FashionMNIST) using Torchvision"
   ]
  },
  {
   "cell_type": "code",
   "execution_count": 2,
   "id": "19d2f72d-d804-4db6-b01a-5200f09cdd56",
   "metadata": {},
   "outputs": [],
   "source": [
    "# Download training data from open datasets.\n",
    "training_data = datasets.FashionMNIST(\n",
    "    root=\"data\",\n",
    "    train=True,\n",
    "    download=True,\n",
    "    transform=ToTensor(),\n",
    ")\n",
    "\n",
    "# Download test data from open datasets.\n",
    "test_data = datasets.FashionMNIST(\n",
    "    root=\"data\",\n",
    "    train=False,\n",
    "    download=True,\n",
    "    transform=ToTensor(),\n",
    ")"
   ]
  },
  {
   "cell_type": "markdown",
   "id": "b65f9bfb-ac4e-409b-b542-2f1ae197d0d1",
   "metadata": {},
   "source": [
    "### Dataloader for NN"
   ]
  },
  {
   "cell_type": "code",
   "execution_count": 3,
   "id": "1a7a784e-51b9-4f5c-8a5d-7663a8c6fae2",
   "metadata": {},
   "outputs": [
    {
     "name": "stdout",
     "output_type": "stream",
     "text": [
      "Shape of X [N, C, H, W]: torch.Size([64, 1, 28, 28])\n",
      "Shape of y: torch.Size([64]) torch.int64\n"
     ]
    }
   ],
   "source": [
    "batch_size = 64\n",
    "\n",
    "# Create data loaders.\n",
    "train_dataloader = DataLoader(training_data, batch_size=batch_size)\n",
    "test_dataloader = DataLoader(test_data, batch_size=batch_size)\n",
    "\n",
    "for X, y in test_dataloader:\n",
    "    print(f\"Shape of X [N, C, H, W]: {X.shape}\")\n",
    "    print(f\"Shape of y: {y.shape} {y.dtype}\")\n",
    "    break"
   ]
  },
  {
   "cell_type": "markdown",
   "id": "8e18345f-3b37-4a86-a92a-1f7582a194e1",
   "metadata": {},
   "source": [
    "### Create Model Class for Linear NN"
   ]
  },
  {
   "cell_type": "code",
   "execution_count": 4,
   "id": "1a1995aa-c97c-4ace-83c6-b894739800e9",
   "metadata": {},
   "outputs": [
    {
     "name": "stdout",
     "output_type": "stream",
     "text": [
      "Using cuda device\n",
      "NeuralNetwork(\n",
      "  (flatten): Flatten(start_dim=1, end_dim=-1)\n",
      "  (linear_relu_stack): Sequential(\n",
      "    (0): Linear(in_features=784, out_features=512, bias=True)\n",
      "    (1): ReLU()\n",
      "    (2): Linear(in_features=512, out_features=512, bias=True)\n",
      "    (3): ReLU()\n",
      "    (4): Linear(in_features=512, out_features=10, bias=True)\n",
      "  )\n",
      ")\n"
     ]
    }
   ],
   "source": [
    "# Get cpu or gpu device for training.\n",
    "device = \"cuda\" if torch.cuda.is_available() else \"cpu\"\n",
    "print(f\"Using {device} device\")\n",
    "\n",
    "# Define model\n",
    "class NeuralNetwork(nn.Module):\n",
    "    def __init__(self):\n",
    "        super(NeuralNetwork, self).__init__()\n",
    "        self.flatten = nn.Flatten()\n",
    "        self.linear_relu_stack = nn.Sequential(\n",
    "            nn.Linear(28*28, 512),\n",
    "            nn.ReLU(),\n",
    "            nn.Linear(512, 512),\n",
    "            nn.ReLU(),\n",
    "            nn.Linear(512, 10)\n",
    "        )\n",
    "\n",
    "    def forward(self, x):\n",
    "        x = self.flatten(x)\n",
    "        logits = self.linear_relu_stack(x)\n",
    "        return logits\n",
    "\n",
    "model = NeuralNetwork().to(device)\n",
    "print(model)"
   ]
  },
  {
   "cell_type": "markdown",
   "id": "69ef0f06-a1f0-46f7-986c-61966d398487",
   "metadata": {},
   "source": [
    "### Optimizer"
   ]
  },
  {
   "cell_type": "code",
   "execution_count": 5,
   "id": "68079fff-0179-4b03-874e-e770736b91c3",
   "metadata": {},
   "outputs": [],
   "source": [
    "loss_fn = nn.CrossEntropyLoss()\n",
    "optimizer = torch.optim.SGD(model.parameters(), lr=1e-3)"
   ]
  },
  {
   "cell_type": "markdown",
   "id": "564206b6-0ba3-440a-a9c8-9326ada6c130",
   "metadata": {},
   "source": [
    "### Define Training "
   ]
  },
  {
   "cell_type": "code",
   "execution_count": 6,
   "id": "e859c7d1-4ebe-4803-be84-3edb3444c073",
   "metadata": {},
   "outputs": [],
   "source": [
    "def train(dataloader, model, loss_fn, optimizer):\n",
    "    size = len(dataloader.dataset)\n",
    "    model.train()\n",
    "    for batch, (X, y) in enumerate(dataloader):\n",
    "        X, y = X.to(device), y.to(device)\n",
    "\n",
    "        # Compute prediction error\n",
    "        pred = model(X)\n",
    "        loss = loss_fn(pred, y)\n",
    "\n",
    "        # Backpropagation\n",
    "        optimizer.zero_grad()\n",
    "        loss.backward()\n",
    "        optimizer.step()\n",
    "\n",
    "        if batch % 100 == 0:\n",
    "            loss, current = loss.item(), batch * len(X)\n",
    "            print(f\"loss: {loss:>7f}  [{current:>5d}/{size:>5d}]\")"
   ]
  },
  {
   "cell_type": "markdown",
   "id": "c8fe33dc-34f8-491c-9ead-10dd7ceeb8ae",
   "metadata": {},
   "source": [
    "### Define Test "
   ]
  },
  {
   "cell_type": "code",
   "execution_count": 7,
   "id": "b0487a0a-c646-4ab6-9a58-6e9d89477b80",
   "metadata": {},
   "outputs": [],
   "source": [
    "def test(dataloader, model, loss_fn):\n",
    "    size = len(dataloader.dataset)\n",
    "    num_batches = len(dataloader)\n",
    "    model.eval()\n",
    "    test_loss, correct = 0, 0\n",
    "    with torch.no_grad():\n",
    "        for X, y in dataloader:\n",
    "            X, y = X.to(device), y.to(device)\n",
    "            pred = model(X)\n",
    "            test_loss += loss_fn(pred, y).item()\n",
    "            correct += (pred.argmax(1) == y).type(torch.float).sum().item()\n",
    "    test_loss /= num_batches\n",
    "    correct /= size\n",
    "    print(f\"Test Error: \\n Accuracy: {(100*correct):>0.1f}%, Avg loss: {test_loss:>8f} \\n\")"
   ]
  },
  {
   "cell_type": "markdown",
   "id": "46bd61d9-a086-4b90-be56-f5f3f5ee41b2",
   "metadata": {},
   "source": [
    "### Train Model "
   ]
  },
  {
   "cell_type": "code",
   "execution_count": 11,
   "id": "950aa7b8-1959-4f5f-b02b-e1ba1c89358a",
   "metadata": {},
   "outputs": [
    {
     "name": "stdout",
     "output_type": "stream",
     "text": [
      "Epoch 1\n",
      "-------------------------------\n"
     ]
    },
    {
     "ename": "RuntimeError",
     "evalue": "Expected all tensors to be on the same device, but found at least two devices, cpu and cuda:0! (when checking argument for argument mat1 in method wrapper_addmm)",
     "output_type": "error",
     "traceback": [
      "\u001b[0;31m---------------------------------------------------------------------------\u001b[0m",
      "\u001b[0;31mRuntimeError\u001b[0m                              Traceback (most recent call last)",
      "File \u001b[0;32m<timed exec>:4\u001b[0m\n",
      "Cell \u001b[0;32mIn [6], line 8\u001b[0m, in \u001b[0;36mtrain\u001b[0;34m(dataloader, model, loss_fn, optimizer)\u001b[0m\n\u001b[1;32m      5\u001b[0m X, y \u001b[38;5;241m=\u001b[39m X\u001b[38;5;241m.\u001b[39mto(device), y\u001b[38;5;241m.\u001b[39mto(device)\n\u001b[1;32m      7\u001b[0m \u001b[38;5;66;03m# Compute prediction error\u001b[39;00m\n\u001b[0;32m----> 8\u001b[0m pred \u001b[38;5;241m=\u001b[39m \u001b[43mmodel\u001b[49m\u001b[43m(\u001b[49m\u001b[43mX\u001b[49m\u001b[43m)\u001b[49m\n\u001b[1;32m      9\u001b[0m loss \u001b[38;5;241m=\u001b[39m loss_fn(pred, y)\n\u001b[1;32m     11\u001b[0m \u001b[38;5;66;03m# Backpropagation\u001b[39;00m\n",
      "File \u001b[0;32m~/torch/lib/python3.8/site-packages/torch/nn/modules/module.py:1111\u001b[0m, in \u001b[0;36mModule._call_impl\u001b[0;34m(self, *input, **kwargs)\u001b[0m\n\u001b[1;32m   1107\u001b[0m \u001b[38;5;66;03m# If we don't have any hooks, we want to skip the rest of the logic in\u001b[39;00m\n\u001b[1;32m   1108\u001b[0m \u001b[38;5;66;03m# this function, and just call forward.\u001b[39;00m\n\u001b[1;32m   1109\u001b[0m \u001b[38;5;28;01mif\u001b[39;00m \u001b[38;5;129;01mnot\u001b[39;00m (\u001b[38;5;28mself\u001b[39m\u001b[38;5;241m.\u001b[39m_backward_hooks \u001b[38;5;129;01mor\u001b[39;00m \u001b[38;5;28mself\u001b[39m\u001b[38;5;241m.\u001b[39m_forward_hooks \u001b[38;5;129;01mor\u001b[39;00m \u001b[38;5;28mself\u001b[39m\u001b[38;5;241m.\u001b[39m_forward_pre_hooks \u001b[38;5;129;01mor\u001b[39;00m _global_backward_hooks\n\u001b[1;32m   1110\u001b[0m         \u001b[38;5;129;01mor\u001b[39;00m _global_forward_hooks \u001b[38;5;129;01mor\u001b[39;00m _global_forward_pre_hooks):\n\u001b[0;32m-> 1111\u001b[0m     \u001b[38;5;28;01mreturn\u001b[39;00m \u001b[43mforward_call\u001b[49m\u001b[43m(\u001b[49m\u001b[38;5;241;43m*\u001b[39;49m\u001b[38;5;28;43minput\u001b[39;49m\u001b[43m,\u001b[49m\u001b[43m \u001b[49m\u001b[38;5;241;43m*\u001b[39;49m\u001b[38;5;241;43m*\u001b[39;49m\u001b[43mkwargs\u001b[49m\u001b[43m)\u001b[49m\n\u001b[1;32m   1112\u001b[0m \u001b[38;5;66;03m# Do not call functions when jit is used\u001b[39;00m\n\u001b[1;32m   1113\u001b[0m full_backward_hooks, non_full_backward_hooks \u001b[38;5;241m=\u001b[39m [], []\n",
      "Cell \u001b[0;32mIn [4], line 20\u001b[0m, in \u001b[0;36mNeuralNetwork.forward\u001b[0;34m(self, x)\u001b[0m\n\u001b[1;32m     18\u001b[0m \u001b[38;5;28;01mdef\u001b[39;00m \u001b[38;5;21mforward\u001b[39m(\u001b[38;5;28mself\u001b[39m, x):\n\u001b[1;32m     19\u001b[0m     x \u001b[38;5;241m=\u001b[39m \u001b[38;5;28mself\u001b[39m\u001b[38;5;241m.\u001b[39mflatten(x)\n\u001b[0;32m---> 20\u001b[0m     logits \u001b[38;5;241m=\u001b[39m \u001b[38;5;28;43mself\u001b[39;49m\u001b[38;5;241;43m.\u001b[39;49m\u001b[43mlinear_relu_stack\u001b[49m\u001b[43m(\u001b[49m\u001b[43mx\u001b[49m\u001b[43m)\u001b[49m\n\u001b[1;32m     21\u001b[0m     \u001b[38;5;28;01mreturn\u001b[39;00m logits\n",
      "File \u001b[0;32m~/torch/lib/python3.8/site-packages/torch/nn/modules/module.py:1111\u001b[0m, in \u001b[0;36mModule._call_impl\u001b[0;34m(self, *input, **kwargs)\u001b[0m\n\u001b[1;32m   1107\u001b[0m \u001b[38;5;66;03m# If we don't have any hooks, we want to skip the rest of the logic in\u001b[39;00m\n\u001b[1;32m   1108\u001b[0m \u001b[38;5;66;03m# this function, and just call forward.\u001b[39;00m\n\u001b[1;32m   1109\u001b[0m \u001b[38;5;28;01mif\u001b[39;00m \u001b[38;5;129;01mnot\u001b[39;00m (\u001b[38;5;28mself\u001b[39m\u001b[38;5;241m.\u001b[39m_backward_hooks \u001b[38;5;129;01mor\u001b[39;00m \u001b[38;5;28mself\u001b[39m\u001b[38;5;241m.\u001b[39m_forward_hooks \u001b[38;5;129;01mor\u001b[39;00m \u001b[38;5;28mself\u001b[39m\u001b[38;5;241m.\u001b[39m_forward_pre_hooks \u001b[38;5;129;01mor\u001b[39;00m _global_backward_hooks\n\u001b[1;32m   1110\u001b[0m         \u001b[38;5;129;01mor\u001b[39;00m _global_forward_hooks \u001b[38;5;129;01mor\u001b[39;00m _global_forward_pre_hooks):\n\u001b[0;32m-> 1111\u001b[0m     \u001b[38;5;28;01mreturn\u001b[39;00m \u001b[43mforward_call\u001b[49m\u001b[43m(\u001b[49m\u001b[38;5;241;43m*\u001b[39;49m\u001b[38;5;28;43minput\u001b[39;49m\u001b[43m,\u001b[49m\u001b[43m \u001b[49m\u001b[38;5;241;43m*\u001b[39;49m\u001b[38;5;241;43m*\u001b[39;49m\u001b[43mkwargs\u001b[49m\u001b[43m)\u001b[49m\n\u001b[1;32m   1112\u001b[0m \u001b[38;5;66;03m# Do not call functions when jit is used\u001b[39;00m\n\u001b[1;32m   1113\u001b[0m full_backward_hooks, non_full_backward_hooks \u001b[38;5;241m=\u001b[39m [], []\n",
      "File \u001b[0;32m~/torch/lib/python3.8/site-packages/torch/nn/modules/container.py:139\u001b[0m, in \u001b[0;36mSequential.forward\u001b[0;34m(self, input)\u001b[0m\n\u001b[1;32m    137\u001b[0m \u001b[38;5;28;01mdef\u001b[39;00m \u001b[38;5;21mforward\u001b[39m(\u001b[38;5;28mself\u001b[39m, \u001b[38;5;28minput\u001b[39m):\n\u001b[1;32m    138\u001b[0m     \u001b[38;5;28;01mfor\u001b[39;00m module \u001b[38;5;129;01min\u001b[39;00m \u001b[38;5;28mself\u001b[39m:\n\u001b[0;32m--> 139\u001b[0m         \u001b[38;5;28minput\u001b[39m \u001b[38;5;241m=\u001b[39m \u001b[43mmodule\u001b[49m\u001b[43m(\u001b[49m\u001b[38;5;28;43minput\u001b[39;49m\u001b[43m)\u001b[49m\n\u001b[1;32m    140\u001b[0m     \u001b[38;5;28;01mreturn\u001b[39;00m \u001b[38;5;28minput\u001b[39m\n",
      "File \u001b[0;32m~/torch/lib/python3.8/site-packages/torch/nn/modules/module.py:1111\u001b[0m, in \u001b[0;36mModule._call_impl\u001b[0;34m(self, *input, **kwargs)\u001b[0m\n\u001b[1;32m   1107\u001b[0m \u001b[38;5;66;03m# If we don't have any hooks, we want to skip the rest of the logic in\u001b[39;00m\n\u001b[1;32m   1108\u001b[0m \u001b[38;5;66;03m# this function, and just call forward.\u001b[39;00m\n\u001b[1;32m   1109\u001b[0m \u001b[38;5;28;01mif\u001b[39;00m \u001b[38;5;129;01mnot\u001b[39;00m (\u001b[38;5;28mself\u001b[39m\u001b[38;5;241m.\u001b[39m_backward_hooks \u001b[38;5;129;01mor\u001b[39;00m \u001b[38;5;28mself\u001b[39m\u001b[38;5;241m.\u001b[39m_forward_hooks \u001b[38;5;129;01mor\u001b[39;00m \u001b[38;5;28mself\u001b[39m\u001b[38;5;241m.\u001b[39m_forward_pre_hooks \u001b[38;5;129;01mor\u001b[39;00m _global_backward_hooks\n\u001b[1;32m   1110\u001b[0m         \u001b[38;5;129;01mor\u001b[39;00m _global_forward_hooks \u001b[38;5;129;01mor\u001b[39;00m _global_forward_pre_hooks):\n\u001b[0;32m-> 1111\u001b[0m     \u001b[38;5;28;01mreturn\u001b[39;00m \u001b[43mforward_call\u001b[49m\u001b[43m(\u001b[49m\u001b[38;5;241;43m*\u001b[39;49m\u001b[38;5;28;43minput\u001b[39;49m\u001b[43m,\u001b[49m\u001b[43m \u001b[49m\u001b[38;5;241;43m*\u001b[39;49m\u001b[38;5;241;43m*\u001b[39;49m\u001b[43mkwargs\u001b[49m\u001b[43m)\u001b[49m\n\u001b[1;32m   1112\u001b[0m \u001b[38;5;66;03m# Do not call functions when jit is used\u001b[39;00m\n\u001b[1;32m   1113\u001b[0m full_backward_hooks, non_full_backward_hooks \u001b[38;5;241m=\u001b[39m [], []\n",
      "File \u001b[0;32m~/torch/lib/python3.8/site-packages/torch/nn/modules/linear.py:103\u001b[0m, in \u001b[0;36mLinear.forward\u001b[0;34m(self, input)\u001b[0m\n\u001b[1;32m    102\u001b[0m \u001b[38;5;28;01mdef\u001b[39;00m \u001b[38;5;21mforward\u001b[39m(\u001b[38;5;28mself\u001b[39m, \u001b[38;5;28minput\u001b[39m: Tensor) \u001b[38;5;241m-\u001b[39m\u001b[38;5;241m>\u001b[39m Tensor:\n\u001b[0;32m--> 103\u001b[0m     \u001b[38;5;28;01mreturn\u001b[39;00m \u001b[43mF\u001b[49m\u001b[38;5;241;43m.\u001b[39;49m\u001b[43mlinear\u001b[49m\u001b[43m(\u001b[49m\u001b[38;5;28;43minput\u001b[39;49m\u001b[43m,\u001b[49m\u001b[43m \u001b[49m\u001b[38;5;28;43mself\u001b[39;49m\u001b[38;5;241;43m.\u001b[39;49m\u001b[43mweight\u001b[49m\u001b[43m,\u001b[49m\u001b[43m \u001b[49m\u001b[38;5;28;43mself\u001b[39;49m\u001b[38;5;241;43m.\u001b[39;49m\u001b[43mbias\u001b[49m\u001b[43m)\u001b[49m\n",
      "\u001b[0;31mRuntimeError\u001b[0m: Expected all tensors to be on the same device, but found at least two devices, cpu and cuda:0! (when checking argument for argument mat1 in method wrapper_addmm)"
     ]
    }
   ],
   "source": [
    "%%time \n",
    "epochs = 5\n",
    "for t in range(epochs):\n",
    "    print(f\"Epoch {t+1}\\n-------------------------------\")\n",
    "    train(train_dataloader, model, loss_fn, optimizer)\n",
    "    test(test_dataloader, model, loss_fn)\n",
    "print(\"Done!\")"
   ]
  },
  {
   "cell_type": "markdown",
   "id": "5f525472-57c0-4207-863b-45da402c0719",
   "metadata": {},
   "source": [
    "### Saving Models"
   ]
  },
  {
   "cell_type": "code",
   "execution_count": 9,
   "id": "d3d9b39c-90d1-4913-9469-95282e3173a0",
   "metadata": {},
   "outputs": [
    {
     "name": "stdout",
     "output_type": "stream",
     "text": [
      "Saved PyTorch Model State to model_MAXV.pth\n"
     ]
    },
    {
     "name": "stderr",
     "output_type": "stream",
     "text": [
      "/home/jwolf/torch/lib/python3.8/site-packages/torch/nn/modules/module.py:1383: UserWarning: positional arguments and argument \"destination\" are deprecated. nn.Module.state_dict will not accept them in the future. Refer to https://pytorch.org/docs/master/generated/torch.nn.Module.html#torch.nn.Module.state_dict for details.\n",
      "  warnings.warn(\n"
     ]
    }
   ],
   "source": [
    "torch.save(model.state_dict(), \"model_MAXV.pth\")\n",
    "print(\"Saved PyTorch Model State to model_MAXV.pth\")"
   ]
  },
  {
   "cell_type": "markdown",
   "id": "bcbc5f21-e73a-4479-b325-d18f166e294e",
   "metadata": {},
   "source": [
    "### Loading Models"
   ]
  },
  {
   "cell_type": "code",
   "execution_count": 10,
   "id": "4184e792-0a95-4674-ab42-5ad0844b84b4",
   "metadata": {},
   "outputs": [
    {
     "data": {
      "text/plain": [
       "<All keys matched successfully>"
      ]
     },
     "execution_count": 10,
     "metadata": {},
     "output_type": "execute_result"
    }
   ],
   "source": [
    "model = NeuralNetwork()\n",
    "model.load_state_dict(torch.load(\"model_MAXV.pth\"))"
   ]
  },
  {
   "cell_type": "markdown",
   "id": "b9d5df01-eaaa-435b-91a8-52c674fc8c83",
   "metadata": {},
   "source": [
    "### Predicting Classes"
   ]
  },
  {
   "cell_type": "code",
   "execution_count": 13,
   "id": "8bfba92b-e83d-4fb6-8403-cb410c9dba12",
   "metadata": {},
   "outputs": [
    {
     "name": "stdout",
     "output_type": "stream",
     "text": [
      "Predicted: \"Ankle boot\", Actual: \"Ankle boot\"\n",
      "-----------------------------  ------------  ------------  ------------  ------------  ------------  ------------  ------------  ------------  ------------  ------------  \n",
      "                         Name    Self CPU %      Self CPU   CPU total %     CPU total  CPU time avg     Self CUDA   Self CUDA %    CUDA total  CUDA time avg    # of Calls  \n",
      "-----------------------------  ------------  ------------  ------------  ------------  ------------  ------------  ------------  ------------  ------------  ------------  \n",
      "                aten::flatten        93.48%      53.991ms        93.63%      54.079ms      54.079ms     227.000us         5.75%     313.000us     313.000us             1  \n",
      "         aten::_reshape_alias         0.15%      88.000us         0.15%      88.000us      88.000us      86.000us         2.18%      86.000us      86.000us             1  \n",
      "                 aten::linear         0.29%     169.000us         2.21%       1.279ms       1.279ms     155.000us         3.92%       1.266ms       1.266ms             1  \n",
      "                      aten::t         0.13%      76.000us         0.25%     145.000us     145.000us      73.000us         1.85%     140.000us     140.000us             1  \n",
      "              aten::transpose         0.08%      45.000us         0.12%      69.000us      69.000us      45.000us         1.14%      67.000us      67.000us             1  \n",
      "             aten::as_strided         0.04%      24.000us         0.04%      24.000us      24.000us      22.000us         0.56%      22.000us      22.000us             1  \n",
      "                  aten::addmm         1.43%     824.000us         1.67%     965.000us     965.000us     805.000us        20.38%     971.000us     971.000us             1  \n",
      "                 aten::expand         0.08%      45.000us         0.11%      62.000us      62.000us      39.000us         0.99%      56.000us      56.000us             1  \n",
      "             aten::as_strided         0.03%      17.000us         0.03%      17.000us      17.000us      17.000us         0.43%      17.000us      17.000us             1  \n",
      "                  aten::copy_         0.08%      49.000us         0.08%      49.000us      49.000us      46.000us         1.16%      46.000us      46.000us             1  \n",
      "           aten::resolve_conj         0.03%      16.000us         0.03%      16.000us      16.000us      50.000us         1.27%      50.000us      50.000us             1  \n",
      "           aten::resolve_conj         0.02%      14.000us         0.02%      14.000us      14.000us      14.000us         0.35%      14.000us      14.000us             1  \n",
      "                   aten::relu         1.39%     801.000us         1.58%     912.000us     912.000us     810.000us        20.51%     909.000us     909.000us             1  \n",
      "              aten::clamp_min         0.09%      54.000us         0.19%     111.000us     111.000us      42.000us         1.06%      99.000us      99.000us             1  \n",
      "                  aten::empty         0.03%      19.000us         0.03%      19.000us      19.000us      17.000us         0.43%      17.000us      17.000us             1  \n",
      "              aten::clamp_min         0.07%      38.000us         0.07%      38.000us      38.000us      40.000us         1.01%      40.000us      40.000us             1  \n",
      "                 aten::linear         0.07%      43.000us         1.27%     735.000us     735.000us      33.000us         0.84%     730.000us     730.000us             1  \n",
      "                      aten::t         0.06%      35.000us         0.12%      69.000us      69.000us      36.000us         0.91%      69.000us      69.000us             1  \n",
      "              aten::transpose         0.04%      21.000us         0.06%      34.000us      34.000us      21.000us         0.53%      33.000us      33.000us             1  \n",
      "             aten::as_strided         0.02%      13.000us         0.02%      13.000us      13.000us      12.000us         0.30%      12.000us      12.000us             1  \n",
      "                  aten::addmm         0.87%     504.000us         1.08%     623.000us     623.000us     492.000us        12.46%     628.000us     628.000us             1  \n",
      "                 aten::expand         0.05%      27.000us         0.10%      60.000us      60.000us      22.000us         0.56%      58.000us      58.000us             1  \n",
      "             aten::as_strided         0.06%      33.000us         0.06%      33.000us      33.000us      36.000us         0.91%      36.000us      36.000us             1  \n",
      "                  aten::copy_         0.07%      40.000us         0.07%      40.000us      40.000us      43.000us         1.09%      43.000us      43.000us             1  \n",
      "           aten::resolve_conj         0.02%      10.000us         0.02%      10.000us      10.000us      27.000us         0.68%      27.000us      27.000us             1  \n",
      "           aten::resolve_conj         0.02%       9.000us         0.02%       9.000us       9.000us       8.000us         0.20%       8.000us       8.000us             1  \n",
      "                   aten::relu         0.08%      48.000us         0.22%     125.000us     125.000us      46.000us         1.16%     120.000us     120.000us             1  \n",
      "              aten::clamp_min         0.07%      38.000us         0.13%      77.000us      77.000us      34.000us         0.86%      74.000us      74.000us             1  \n",
      "                  aten::empty         0.02%      13.000us         0.02%      13.000us      13.000us      12.000us         0.30%      12.000us      12.000us             1  \n",
      "              aten::clamp_min         0.05%      26.000us         0.05%      26.000us      26.000us      28.000us         0.71%      28.000us      28.000us             1  \n",
      "                 aten::linear         0.12%      68.000us         0.80%     462.000us     462.000us      87.000us         2.20%     456.000us     456.000us             1  \n",
      "                      aten::t         0.08%      46.000us         0.29%     165.000us     165.000us      39.000us         0.99%     166.000us     166.000us             1  \n",
      "              aten::transpose         0.15%      86.000us         0.21%     119.000us     119.000us      35.000us         0.89%     127.000us     127.000us             1  \n",
      "             aten::as_strided         0.06%      33.000us         0.06%      33.000us      33.000us      92.000us         2.33%      92.000us      92.000us             1  \n",
      "                  aten::addmm         0.25%     144.000us         0.40%     229.000us     229.000us     119.000us         3.01%     203.000us     203.000us             1  \n",
      "                 aten::expand         0.05%      29.000us         0.07%      42.000us      42.000us      24.000us         0.61%      35.000us      35.000us             1  \n",
      "             aten::as_strided         0.02%      13.000us         0.02%      13.000us      13.000us      11.000us         0.28%      11.000us      11.000us             1  \n",
      "                  aten::copy_         0.03%      20.000us         0.03%      20.000us      20.000us      28.000us         0.71%      28.000us      28.000us             1  \n",
      "           aten::resolve_conj         0.02%      13.000us         0.02%      13.000us      13.000us      13.000us         0.33%      13.000us      13.000us             1  \n",
      "           aten::resolve_conj         0.02%      10.000us         0.02%      10.000us      10.000us       8.000us         0.20%       8.000us       8.000us             1  \n",
      "                 aten::select         0.07%      39.000us         0.10%      60.000us      60.000us      47.000us         1.19%      57.000us      57.000us             1  \n",
      "             aten::as_strided         0.04%      21.000us         0.04%      21.000us      21.000us      10.000us         0.25%      10.000us      10.000us             1  \n",
      "                 aten::argmax         0.09%      51.000us         0.11%      63.000us      63.000us      52.000us         1.32%      62.000us      62.000us             1  \n",
      "             aten::as_strided         0.02%      12.000us         0.02%      12.000us      12.000us      10.000us         0.25%      10.000us      10.000us             1  \n",
      "                   aten::item         0.05%      29.000us         0.07%      43.000us      43.000us      25.000us         0.63%      37.000us      37.000us             1  \n",
      "    aten::_local_scalar_dense         0.02%      14.000us         0.02%      14.000us      14.000us      12.000us         0.30%      12.000us      12.000us             1  \n",
      "-----------------------------  ------------  ------------  ------------  ------------  ------------  ------------  ------------  ------------  ------------  ------------  \n",
      "Self CPU time total: 57.758ms\n",
      "Self CUDA time total: 3.950ms\n",
      "\n",
      "CPU times: user 66.3 ms, sys: 96.4 ms, total: 163 ms\n",
      "Wall time: 83.5 ms\n"
     ]
    }
   ],
   "source": [
    "%%time\n",
    "classes = [\n",
    "    \"T-shirt/top\",\n",
    "    \"Trouser\",\n",
    "    \"Pullover\",\n",
    "    \"Dress\",\n",
    "    \"Coat\",\n",
    "    \"Sandal\",\n",
    "    \"Shirt\",\n",
    "    \"Sneaker\",\n",
    "    \"Bag\",\n",
    "    \"Ankle boot\",\n",
    "]\n",
    "\n",
    "model.eval()\n",
    "x, y = test_data[0][0], test_data[0][1]\n",
    "#with torch.no_grad():\n",
    "with torch.autograd.profiler.profile(use_cuda=True) as prof:\n",
    "    pred = model(x)\n",
    "    predicted, actual = classes[pred[0].argmax(0)], classes[y]\n",
    "    print(f'Predicted: \"{predicted}\", Actual: \"{actual}\"')\n",
    "print(prof)"
   ]
  },
  {
   "cell_type": "code",
   "execution_count": null,
   "id": "dc747c79-00b4-4c75-8a76-0ce72a8fcc3c",
   "metadata": {},
   "outputs": [],
   "source": []
  }
 ],
 "metadata": {
  "kernelspec": {
   "display_name": "Python 3 (ipykernel)",
   "language": "python",
   "name": "python3"
  },
  "language_info": {
   "codemirror_mode": {
    "name": "ipython",
    "version": 3
   },
   "file_extension": ".py",
   "mimetype": "text/x-python",
   "name": "python",
   "nbconvert_exporter": "python",
   "pygments_lexer": "ipython3",
   "version": "3.8.10"
  }
 },
 "nbformat": 4,
 "nbformat_minor": 5
}
