{
 "cells": [
  {
   "cell_type": "markdown",
   "id": "f1421684-34e0-486d-98cd-18468ec46c7f",
   "metadata": {},
   "source": [
    "## Jetson Xavier Torch Benchmarking Example:"
   ]
  },
  {
   "cell_type": "code",
   "execution_count": 1,
   "id": "5bb4b2ea-f740-4877-b5bb-01acbc4b06b1",
   "metadata": {},
   "outputs": [
    {
     "name": "stderr",
     "output_type": "stream",
     "text": [
      "/home/jwolf/torch/lib/python3.8/site-packages/torchvision/io/image.py:13: UserWarning: Failed to load image Python extension: \n",
      "  warn(f\"Failed to load image Python extension: {e}\")\n"
     ]
    }
   ],
   "source": [
    "import torch\n",
    "from torch import nn\n",
    "from torch.utils.data import DataLoader\n",
    "import torchvision\n",
    "from torchvision import datasets\n",
    "from torchvision.transforms import ToTensor"
   ]
  },
  {
   "cell_type": "markdown",
   "id": "76964857-38ce-4ef4-9bb6-3b3da7ff9cf2",
   "metadata": {},
   "source": [
    "### Download Training Data (FashionMNIST) using Torchvision"
   ]
  },
  {
   "cell_type": "code",
   "execution_count": 2,
   "id": "19d2f72d-d804-4db6-b01a-5200f09cdd56",
   "metadata": {},
   "outputs": [],
   "source": [
    "# Download training data from open datasets.\n",
    "training_data = datasets.FashionMNIST(\n",
    "    root=\"data\",\n",
    "    train=True,\n",
    "    download=True,\n",
    "    transform=ToTensor(),\n",
    ")\n",
    "\n",
    "# Download test data from open datasets.\n",
    "test_data = datasets.FashionMNIST(\n",
    "    root=\"data\",\n",
    "    train=False,\n",
    "    download=True,\n",
    "    transform=ToTensor(),\n",
    ")"
   ]
  },
  {
   "cell_type": "markdown",
   "id": "b65f9bfb-ac4e-409b-b542-2f1ae197d0d1",
   "metadata": {},
   "source": [
    "### Dataloader for NN"
   ]
  },
  {
   "cell_type": "code",
   "execution_count": 3,
   "id": "1a7a784e-51b9-4f5c-8a5d-7663a8c6fae2",
   "metadata": {},
   "outputs": [
    {
     "name": "stdout",
     "output_type": "stream",
     "text": [
      "Shape of X [N, C, H, W]: torch.Size([64, 1, 28, 28])\n",
      "Shape of y: torch.Size([64]) torch.int64\n"
     ]
    }
   ],
   "source": [
    "batch_size = 64\n",
    "\n",
    "# Create data loaders.\n",
    "train_dataloader = DataLoader(training_data, batch_size=batch_size)\n",
    "test_dataloader = DataLoader(test_data, batch_size=batch_size)\n",
    "\n",
    "for X, y in test_dataloader:\n",
    "    print(f\"Shape of X [N, C, H, W]: {X.shape}\")\n",
    "    print(f\"Shape of y: {y.shape} {y.dtype}\")\n",
    "    break"
   ]
  },
  {
   "cell_type": "markdown",
   "id": "8e18345f-3b37-4a86-a92a-1f7582a194e1",
   "metadata": {},
   "source": [
    "### Create Model Class for Linear NN"
   ]
  },
  {
   "cell_type": "code",
   "execution_count": 4,
   "id": "1a1995aa-c97c-4ace-83c6-b894739800e9",
   "metadata": {},
   "outputs": [
    {
     "name": "stdout",
     "output_type": "stream",
     "text": [
      "Using cuda device\n",
      "NeuralNetwork(\n",
      "  (flatten): Flatten(start_dim=1, end_dim=-1)\n",
      "  (linear_relu_stack): Sequential(\n",
      "    (0): Linear(in_features=784, out_features=512, bias=True)\n",
      "    (1): ReLU()\n",
      "    (2): Linear(in_features=512, out_features=512, bias=True)\n",
      "    (3): ReLU()\n",
      "    (4): Linear(in_features=512, out_features=10, bias=True)\n",
      "  )\n",
      ")\n"
     ]
    }
   ],
   "source": [
    "# Get cpu or gpu device for training.\n",
    "device = \"cuda\" if torch.cuda.is_available() else \"cpu\"\n",
    "print(f\"Using {device} device\")\n",
    "\n",
    "# Define model\n",
    "class NeuralNetwork(nn.Module):\n",
    "    def __init__(self):\n",
    "        super(NeuralNetwork, self).__init__()\n",
    "        self.flatten = nn.Flatten()\n",
    "        self.linear_relu_stack = nn.Sequential(\n",
    "            nn.Linear(28*28, 512),\n",
    "            nn.ReLU(),\n",
    "            nn.Linear(512, 512),\n",
    "            nn.ReLU(),\n",
    "            nn.Linear(512, 10)\n",
    "        )\n",
    "\n",
    "    def forward(self, x):\n",
    "        x = self.flatten(x)\n",
    "        logits = self.linear_relu_stack(x)\n",
    "        return logits\n",
    "\n",
    "model = NeuralNetwork().to(device)\n",
    "print(model)"
   ]
  },
  {
   "cell_type": "markdown",
   "id": "69ef0f06-a1f0-46f7-986c-61966d398487",
   "metadata": {},
   "source": [
    "### Optimizer"
   ]
  },
  {
   "cell_type": "code",
   "execution_count": 5,
   "id": "68079fff-0179-4b03-874e-e770736b91c3",
   "metadata": {},
   "outputs": [],
   "source": [
    "loss_fn = nn.CrossEntropyLoss()\n",
    "optimizer = torch.optim.SGD(model.parameters(), lr=1e-3)"
   ]
  },
  {
   "cell_type": "markdown",
   "id": "564206b6-0ba3-440a-a9c8-9326ada6c130",
   "metadata": {},
   "source": [
    "### Define Training "
   ]
  },
  {
   "cell_type": "code",
   "execution_count": 6,
   "id": "e859c7d1-4ebe-4803-be84-3edb3444c073",
   "metadata": {},
   "outputs": [],
   "source": [
    "def train(dataloader, model, loss_fn, optimizer):\n",
    "    size = len(dataloader.dataset)\n",
    "    model.train()\n",
    "    for batch, (X, y) in enumerate(dataloader):\n",
    "        X, y = X.to(device), y.to(device)\n",
    "\n",
    "        # Compute prediction error\n",
    "        pred = model(X)\n",
    "        loss = loss_fn(pred, y)\n",
    "\n",
    "        # Backpropagation\n",
    "        optimizer.zero_grad()\n",
    "        loss.backward()\n",
    "        optimizer.step()\n",
    "\n",
    "        if batch % 100 == 0:\n",
    "            loss, current = loss.item(), batch * len(X)\n",
    "            print(f\"loss: {loss:>7f}  [{current:>5d}/{size:>5d}]\")"
   ]
  },
  {
   "cell_type": "markdown",
   "id": "c8fe33dc-34f8-491c-9ead-10dd7ceeb8ae",
   "metadata": {},
   "source": [
    "### Define Test "
   ]
  },
  {
   "cell_type": "code",
   "execution_count": 7,
   "id": "b0487a0a-c646-4ab6-9a58-6e9d89477b80",
   "metadata": {},
   "outputs": [],
   "source": [
    "def test(dataloader, model, loss_fn):\n",
    "    size = len(dataloader.dataset)\n",
    "    num_batches = len(dataloader)\n",
    "    model.eval()\n",
    "    test_loss, correct = 0, 0\n",
    "    with torch.no_grad():\n",
    "        for X, y in dataloader:\n",
    "            X, y = X.to(device), y.to(device)\n",
    "            pred = model(X)\n",
    "            test_loss += loss_fn(pred, y).item()\n",
    "            correct += (pred.argmax(1) == y).type(torch.float).sum().item()\n",
    "    test_loss /= num_batches\n",
    "    correct /= size\n",
    "    print(f\"Test Error: \\n Accuracy: {(100*correct):>0.1f}%, Avg loss: {test_loss:>8f} \\n\")"
   ]
  },
  {
   "cell_type": "markdown",
   "id": "46bd61d9-a086-4b90-be56-f5f3f5ee41b2",
   "metadata": {},
   "source": [
    "### Train Model "
   ]
  },
  {
   "cell_type": "code",
   "execution_count": 8,
   "id": "950aa7b8-1959-4f5f-b02b-e1ba1c89358a",
   "metadata": {},
   "outputs": [
    {
     "name": "stdout",
     "output_type": "stream",
     "text": [
      "Epoch 1\n",
      "-------------------------------\n",
      "loss: 2.290265  [    0/60000]\n",
      "loss: 2.286865  [ 6400/60000]\n",
      "loss: 2.267193  [12800/60000]\n",
      "loss: 2.266896  [19200/60000]\n",
      "loss: 2.245389  [25600/60000]\n",
      "loss: 2.207755  [32000/60000]\n",
      "loss: 2.225461  [38400/60000]\n",
      "loss: 2.186784  [44800/60000]\n",
      "loss: 2.175639  [51200/60000]\n",
      "loss: 2.153446  [57600/60000]\n",
      "Test Error: \n",
      " Accuracy: 45.7%, Avg loss: 2.146235 \n",
      "\n",
      "Epoch 2\n",
      "-------------------------------\n",
      "loss: 2.156435  [    0/60000]\n",
      "loss: 2.146842  [ 6400/60000]\n",
      "loss: 2.089670  [12800/60000]\n",
      "loss: 2.102708  [19200/60000]\n",
      "loss: 2.038658  [25600/60000]\n",
      "loss: 1.985435  [32000/60000]\n",
      "loss: 2.011793  [38400/60000]\n",
      "loss: 1.932849  [44800/60000]\n",
      "loss: 1.929741  [51200/60000]\n",
      "loss: 1.861690  [57600/60000]\n",
      "Test Error: \n",
      " Accuracy: 54.4%, Avg loss: 1.858629 \n",
      "\n",
      "Epoch 3\n",
      "-------------------------------\n",
      "loss: 1.900101  [    0/60000]\n",
      "loss: 1.864204  [ 6400/60000]\n",
      "loss: 1.749060  [12800/60000]\n",
      "loss: 1.780807  [19200/60000]\n",
      "loss: 1.659105  [25600/60000]\n",
      "loss: 1.628299  [32000/60000]\n",
      "loss: 1.646724  [38400/60000]\n",
      "loss: 1.555550  [44800/60000]\n",
      "loss: 1.575492  [51200/60000]\n",
      "loss: 1.475290  [57600/60000]\n",
      "Test Error: \n",
      " Accuracy: 59.7%, Avg loss: 1.494377 \n",
      "\n",
      "Epoch 4\n",
      "-------------------------------\n",
      "loss: 1.566434  [    0/60000]\n",
      "loss: 1.529678  [ 6400/60000]\n",
      "loss: 1.388690  [12800/60000]\n",
      "loss: 1.452936  [19200/60000]\n",
      "loss: 1.326959  [25600/60000]\n",
      "loss: 1.331052  [32000/60000]\n",
      "loss: 1.347130  [38400/60000]\n",
      "loss: 1.279778  [44800/60000]\n",
      "loss: 1.312457  [51200/60000]\n",
      "loss: 1.216516  [57600/60000]\n",
      "Test Error: \n",
      " Accuracy: 62.9%, Avg loss: 1.243181 \n",
      "\n",
      "Epoch 5\n",
      "-------------------------------\n",
      "loss: 1.321350  [    0/60000]\n",
      "loss: 1.301675  [ 6400/60000]\n",
      "loss: 1.147771  [12800/60000]\n",
      "loss: 1.242391  [19200/60000]\n",
      "loss: 1.114490  [25600/60000]\n",
      "loss: 1.138927  [32000/60000]\n",
      "loss: 1.163469  [38400/60000]\n",
      "loss: 1.109072  [44800/60000]\n",
      "loss: 1.147810  [51200/60000]\n",
      "loss: 1.064635  [57600/60000]\n",
      "Test Error: \n",
      " Accuracy: 64.6%, Avg loss: 1.085521 \n",
      "\n",
      "Done!\n",
      "CPU times: user 1min 3s, sys: 1.06 s, total: 1min 4s\n",
      "Wall time: 1min 11s\n"
     ]
    }
   ],
   "source": [
    "%%time \n",
    "epochs = 5\n",
    "for t in range(epochs):\n",
    "    print(f\"Epoch {t+1}\\n-------------------------------\")\n",
    "    train(train_dataloader, model, loss_fn, optimizer)\n",
    "    test(test_dataloader, model, loss_fn)\n",
    "print(\"Done!\")"
   ]
  },
  {
   "cell_type": "markdown",
   "id": "5f525472-57c0-4207-863b-45da402c0719",
   "metadata": {},
   "source": [
    "### Saving Models"
   ]
  },
  {
   "cell_type": "code",
   "execution_count": 9,
   "id": "d3d9b39c-90d1-4913-9469-95282e3173a0",
   "metadata": {},
   "outputs": [
    {
     "name": "stdout",
     "output_type": "stream",
     "text": [
      "Saved PyTorch Model State to model_MAXV.pth\n"
     ]
    },
    {
     "name": "stderr",
     "output_type": "stream",
     "text": [
      "/home/jwolf/torch/lib/python3.8/site-packages/torch/nn/modules/module.py:1383: UserWarning: positional arguments and argument \"destination\" are deprecated. nn.Module.state_dict will not accept them in the future. Refer to https://pytorch.org/docs/master/generated/torch.nn.Module.html#torch.nn.Module.state_dict for details.\n",
      "  warnings.warn(\n"
     ]
    }
   ],
   "source": [
    "torch.save(model.state_dict(), \"model_MAXV.pth\")\n",
    "print(\"Saved PyTorch Model State to model_MAXV.pth\")"
   ]
  },
  {
   "cell_type": "markdown",
   "id": "bcbc5f21-e73a-4479-b325-d18f166e294e",
   "metadata": {},
   "source": [
    "### Loading Models"
   ]
  },
  {
   "cell_type": "code",
   "execution_count": 10,
   "id": "4184e792-0a95-4674-ab42-5ad0844b84b4",
   "metadata": {},
   "outputs": [
    {
     "data": {
      "text/plain": [
       "<All keys matched successfully>"
      ]
     },
     "execution_count": 10,
     "metadata": {},
     "output_type": "execute_result"
    }
   ],
   "source": [
    "model = NeuralNetwork()\n",
    "model.load_state_dict(torch.load(\"model_MAXV.pth\"))"
   ]
  },
  {
   "cell_type": "markdown",
   "id": "b9d5df01-eaaa-435b-91a8-52c674fc8c83",
   "metadata": {},
   "source": [
    "### Predicting Classes"
   ]
  },
  {
   "cell_type": "code",
   "execution_count": 11,
   "id": "8bfba92b-e83d-4fb6-8403-cb410c9dba12",
   "metadata": {},
   "outputs": [
    {
     "name": "stdout",
     "output_type": "stream",
     "text": [
      "Predicted: \"Ankle boot\", Actual: \"Ankle boot\"\n",
      "CPU times: user 37.1 ms, sys: 41.9 ms, total: 78.9 ms\n",
      "Wall time: 21.6 ms\n"
     ]
    }
   ],
   "source": [
    "%%time\n",
    "classes = [\n",
    "    \"T-shirt/top\",\n",
    "    \"Trouser\",\n",
    "    \"Pullover\",\n",
    "    \"Dress\",\n",
    "    \"Coat\",\n",
    "    \"Sandal\",\n",
    "    \"Shirt\",\n",
    "    \"Sneaker\",\n",
    "    \"Bag\",\n",
    "    \"Ankle boot\",\n",
    "]\n",
    "\n",
    "model.eval()\n",
    "x, y = test_data[0][0], test_data[0][1]\n",
    "with torch.no_grad():\n",
    "    pred = model(x)\n",
    "    predicted, actual = classes[pred[0].argmax(0)], classes[y]\n",
    "    print(f'Predicted: \"{predicted}\", Actual: \"{actual}\"')"
   ]
  },
  {
   "cell_type": "code",
   "execution_count": null,
   "id": "8f76887c-9912-4dfe-8010-6e525151457d",
   "metadata": {},
   "outputs": [],
   "source": []
  }
 ],
 "metadata": {
  "kernelspec": {
   "display_name": "Python 3 (ipykernel)",
   "language": "python",
   "name": "python3"
  },
  "language_info": {
   "codemirror_mode": {
    "name": "ipython",
    "version": 3
   },
   "file_extension": ".py",
   "mimetype": "text/x-python",
   "name": "python",
   "nbconvert_exporter": "python",
   "pygments_lexer": "ipython3",
   "version": "3.8.10"
  }
 },
 "nbformat": 4,
 "nbformat_minor": 5
}
